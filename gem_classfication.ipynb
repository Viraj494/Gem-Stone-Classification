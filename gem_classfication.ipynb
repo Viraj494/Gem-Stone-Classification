{
  "nbformat": 4,
  "nbformat_minor": 0,
  "metadata": {
    "colab": {
      "provenance": [],
      "gpuType": "T4"
    },
    "kernelspec": {
      "name": "python3",
      "display_name": "Python 3"
    },
    "language_info": {
      "name": "python"
    },
    "accelerator": "GPU"
  },
  "cells": [
    {
      "cell_type": "code",
      "source": [
        "from google.colab import drive\n",
        "drive.mount('/content/drive')"
      ],
      "metadata": {
        "colab": {
          "base_uri": "https://localhost:8080/"
        },
        "id": "TFw_2Kae0fZO",
        "outputId": "b26332e6-77e8-4d01-9ac4-44b6a41629e4"
      },
      "execution_count": 1,
      "outputs": [
        {
          "output_type": "stream",
          "name": "stdout",
          "text": [
            "Mounted at /content/drive\n"
          ]
        }
      ]
    },
    {
      "cell_type": "code",
      "source": [
        "import tensorflow as tf\n",
        "from tensorflow.keras.preprocessing.image import ImageDataGenerator\n",
        "from tensorflow.keras.applications import MobileNetV2\n",
        "from tensorflow.keras.layers import Dense, GlobalAveragePooling2D, Dropout\n",
        "from tensorflow.keras.models import Model\n",
        "from tensorflow.keras.optimizers import Adam\n",
        "from tensorflow.keras.callbacks import EarlyStopping, ReduceLROnPlateau\n",
        "from sklearn.metrics import classification_report\n",
        "from sklearn.utils import class_weight\n",
        "import numpy as np\n",
        "import os"
      ],
      "metadata": {
        "id": "N7EPgFFK0iMq"
      },
      "execution_count": 13,
      "outputs": []
    },
    {
      "cell_type": "code",
      "source": [
        "# Unzipping the file\n",
        "!unzip -q '/content/drive/My Drive/gem_data.zip' -d '/content/gem_data/'\n",
        "\n",
        "# Check the contents\n",
        "os.listdir('/content/gem_data/')\n"
      ],
      "metadata": {
        "colab": {
          "base_uri": "https://localhost:8080/"
        },
        "id": "Tpv3K3o20u5m",
        "outputId": "2ccf2eb6-1f03-4ea8-9703-a74b25df7051"
      },
      "execution_count": 3,
      "outputs": [
        {
          "output_type": "execute_result",
          "data": {
            "text/plain": [
              "['test', 'train']"
            ]
          },
          "metadata": {},
          "execution_count": 3
        }
      ]
    },
    {
      "cell_type": "code",
      "source": [
        "train_dir = '/content/gem_data/train'\n",
        "test_dir = '/content/gem_data/test'\n"
      ],
      "metadata": {
        "id": "lR4BHT2K0xRj"
      },
      "execution_count": 4,
      "outputs": []
    },
    {
      "cell_type": "code",
      "source": [
        "batch_size = 32\n",
        "image_size = (224, 224)\n",
        "\n",
        "# Training data augmentation with additional augmentations\n",
        "train_datagen = ImageDataGenerator(\n",
        "    rescale=1./255,\n",
        "    rotation_range=40,\n",
        "    zoom_range=0.4,\n",
        "    width_shift_range=0.3,\n",
        "    height_shift_range=0.3,\n",
        "    shear_range=0.2,\n",
        "    brightness_range=[0.7, 1.3],  # Adjust brightness\n",
        "    horizontal_flip=True,\n",
        "    fill_mode='nearest'\n",
        ")\n",
        "\n",
        "# Test data generator (no augmentation, only rescaling)\n",
        "test_datagen = ImageDataGenerator(rescale=1./255)\n",
        "\n",
        "train_generator = train_datagen.flow_from_directory(\n",
        "    train_dir,\n",
        "    target_size=image_size,\n",
        "    batch_size=batch_size,\n",
        "    class_mode='categorical'\n",
        ")\n",
        "\n",
        "test_generator = test_datagen.flow_from_directory(\n",
        "    test_dir,\n",
        "    target_size=image_size,\n",
        "    batch_size=batch_size,\n",
        "    class_mode='categorical'\n",
        ")\n"
      ],
      "metadata": {
        "colab": {
          "base_uri": "https://localhost:8080/"
        },
        "id": "WkPrtrbi0zNb",
        "outputId": "c0eaab86-3fb3-4924-90b5-6b9a1e29098c"
      },
      "execution_count": 14,
      "outputs": [
        {
          "output_type": "stream",
          "name": "stdout",
          "text": [
            "Found 2856 images belonging to 87 classes.\n",
            "Found 363 images belonging to 87 classes.\n"
          ]
        }
      ]
    },
    {
      "cell_type": "code",
      "source": [
        "# Load the pre-trained MobileNetV2 model with weights from ImageNet\n",
        "base_model = MobileNetV2(weights='imagenet', include_top=False, input_shape=(224, 224, 3))\n",
        "\n",
        "# Freeze the base model\n",
        "base_model.trainable = False\n",
        "\n",
        "# Add custom layers on top\n",
        "x = base_model.output\n",
        "x = GlobalAveragePooling2D()(x)\n",
        "x = Dense(1024, activation='relu')(x)\n",
        "x = Dropout(0.5)(x)  # Add dropout to prevent overfitting\n",
        "predictions = Dense(train_generator.num_classes, activation='softmax')(x)\n",
        "\n",
        "# Create the complete model\n",
        "model = Model(inputs=base_model.input, outputs=predictions)\n",
        "\n",
        "model.compile(optimizer=Adam(learning_rate=1e-4),\n",
        "              loss='categorical_crossentropy',\n",
        "              metrics=['accuracy'])\n"
      ],
      "metadata": {
        "id": "Af0jk_QV00yv"
      },
      "execution_count": 15,
      "outputs": []
    },
    {
      "cell_type": "code",
      "source": [
        "# Extract class indices from the training generator\n",
        "classes = train_generator.classes  # This gives the class indices for all images\n",
        "\n",
        "# Get the class labels and the number of classes\n",
        "class_labels = list(train_generator.class_indices.keys())\n",
        "\n",
        "# Compute class weights\n",
        "class_weights = class_weight.compute_class_weight(\n",
        "    class_weight='balanced',\n",
        "    classes=np.unique(classes),  # This is the unique classes from the generator\n",
        "    y=classes  # The labels for all the images\n",
        ")\n",
        "\n",
        "# Convert the output to a dictionary for Keras\n",
        "class_weights = dict(enumerate(class_weights))\n"
      ],
      "metadata": {
        "id": "ekOs8cRo8dIZ"
      },
      "execution_count": 17,
      "outputs": []
    },
    {
      "cell_type": "code",
      "source": [
        "# Early stopping and learning rate reduction callbacks\n",
        "early_stopping = EarlyStopping(monitor='val_loss', patience=10, restore_best_weights=True)\n",
        "lr_reduction = ReduceLROnPlateau(monitor='val_loss', patience=5, factor=0.5, min_lr=1e-6)\n"
      ],
      "metadata": {
        "id": "yX3opBBD03zp"
      },
      "execution_count": 18,
      "outputs": []
    },
    {
      "cell_type": "code",
      "source": [
        "epochs = 70\n",
        "\n",
        "history = model.fit(\n",
        "    train_generator,\n",
        "    steps_per_epoch=train_generator.samples // batch_size,\n",
        "    validation_data=test_generator,\n",
        "    validation_steps=test_generator.samples // batch_size,\n",
        "    epochs=epochs,\n",
        "    class_weight=class_weights,  # Use class weights to balance the classes\n",
        "    callbacks=[early_stopping, lr_reduction]\n",
        ")\n"
      ],
      "metadata": {
        "colab": {
          "base_uri": "https://localhost:8080/"
        },
        "id": "VIDtC40b07Fx",
        "outputId": "aac73ee0-5f99-48a2-b0c9-ae6ed743b7f8"
      },
      "execution_count": 19,
      "outputs": [
        {
          "output_type": "stream",
          "name": "stdout",
          "text": [
            "Epoch 1/70\n"
          ]
        },
        {
          "output_type": "stream",
          "name": "stderr",
          "text": [
            "/usr/local/lib/python3.10/dist-packages/keras/src/trainers/data_adapters/py_dataset_adapter.py:121: UserWarning: Your `PyDataset` class should call `super().__init__(**kwargs)` in its constructor. `**kwargs` can include `workers`, `use_multiprocessing`, `max_queue_size`. Do not pass these arguments to `fit()`, as they will be ignored.\n",
            "  self._warn_if_super_not_called()\n"
          ]
        },
        {
          "output_type": "stream",
          "name": "stdout",
          "text": [
            "\u001b[1m89/89\u001b[0m \u001b[32m━━━━━━━━━━━━━━━━━━━━\u001b[0m\u001b[37m\u001b[0m \u001b[1m56s\u001b[0m 498ms/step - accuracy: 0.0296 - loss: 4.6712 - val_accuracy: 0.1903 - val_loss: 3.8122 - learning_rate: 1.0000e-04\n",
            "Epoch 2/70\n",
            "\u001b[1m 1/89\u001b[0m \u001b[37m━━━━━━━━━━━━━━━━━━━━\u001b[0m \u001b[1m3s\u001b[0m 34ms/step - accuracy: 0.0938 - loss: 4.1034"
          ]
        },
        {
          "output_type": "stream",
          "name": "stderr",
          "text": [
            "/usr/lib/python3.10/contextlib.py:153: UserWarning: Your input ran out of data; interrupting training. Make sure that your dataset or generator can generate at least `steps_per_epoch * epochs` batches. You may need to use the `.repeat()` function when building your dataset.\n",
            "  self.gen.throw(typ, value, traceback)\n"
          ]
        },
        {
          "output_type": "stream",
          "name": "stdout",
          "text": [
            "\b\b\b\b\b\b\b\b\b\b\b\b\b\b\b\b\b\b\b\b\b\b\b\b\b\b\b\b\b\b\b\b\b\b\b\b\b\b\b\b\b\b\b\b\b\b\b\b\b\b\b\b\b\b\b\b\b\b\b\b\b\b\b\b\b\b\b\b\b\b\b\b\b\r\u001b[1m89/89\u001b[0m \u001b[32m━━━━━━━━━━━━━━━━━━━━\u001b[0m\u001b[37m\u001b[0m \u001b[1m1s\u001b[0m 17ms/step - accuracy: 0.0938 - loss: 4.1034 - val_accuracy: 0.1818 - val_loss: 3.9074 - learning_rate: 1.0000e-04\n",
            "Epoch 3/70\n",
            "\u001b[1m89/89\u001b[0m \u001b[32m━━━━━━━━━━━━━━━━━━━━\u001b[0m\u001b[37m\u001b[0m \u001b[1m73s\u001b[0m 456ms/step - accuracy: 0.1506 - loss: 3.7712 - val_accuracy: 0.3523 - val_loss: 3.1977 - learning_rate: 1.0000e-04\n",
            "Epoch 4/70\n",
            "\u001b[1m89/89\u001b[0m \u001b[32m━━━━━━━━━━━━━━━━━━━━\u001b[0m\u001b[37m\u001b[0m \u001b[1m0s\u001b[0m 5ms/step - accuracy: 0.1875 - loss: 3.3074 - val_accuracy: 0.0909 - val_loss: 3.2418 - learning_rate: 1.0000e-04\n",
            "Epoch 5/70\n",
            "\u001b[1m89/89\u001b[0m \u001b[32m━━━━━━━━━━━━━━━━━━━━\u001b[0m\u001b[37m\u001b[0m \u001b[1m44s\u001b[0m 462ms/step - accuracy: 0.2595 - loss: 3.1846 - val_accuracy: 0.4006 - val_loss: 2.7058 - learning_rate: 1.0000e-04\n",
            "Epoch 6/70\n",
            "\u001b[1m89/89\u001b[0m \u001b[32m━━━━━━━━━━━━━━━━━━━━\u001b[0m\u001b[37m\u001b[0m \u001b[1m0s\u001b[0m 338us/step - accuracy: 0.2812 - loss: 2.9307 - val_accuracy: 0.4545 - val_loss: 2.9193 - learning_rate: 1.0000e-04\n",
            "Epoch 7/70\n",
            "\u001b[1m89/89\u001b[0m \u001b[32m━━━━━━━━━━━━━━━━━━━━\u001b[0m\u001b[37m\u001b[0m \u001b[1m81s\u001b[0m 452ms/step - accuracy: 0.3519 - loss: 2.6887 - val_accuracy: 0.4403 - val_loss: 2.3862 - learning_rate: 1.0000e-04\n",
            "Epoch 8/70\n",
            "\u001b[1m89/89\u001b[0m \u001b[32m━━━━━━━━━━━━━━━━━━━━\u001b[0m\u001b[37m\u001b[0m \u001b[1m0s\u001b[0m 358us/step - accuracy: 0.3750 - loss: 2.6295 - val_accuracy: 0.4545 - val_loss: 2.3962 - learning_rate: 1.0000e-04\n",
            "Epoch 9/70\n",
            "\u001b[1m89/89\u001b[0m \u001b[32m━━━━━━━━━━━━━━━━━━━━\u001b[0m\u001b[37m\u001b[0m \u001b[1m81s\u001b[0m 440ms/step - accuracy: 0.4041 - loss: 2.3856 - val_accuracy: 0.4858 - val_loss: 2.1318 - learning_rate: 1.0000e-04\n",
            "Epoch 10/70\n",
            "\u001b[1m89/89\u001b[0m \u001b[32m━━━━━━━━━━━━━━━━━━━━\u001b[0m\u001b[37m\u001b[0m \u001b[1m0s\u001b[0m 345us/step - accuracy: 0.2812 - loss: 2.3727 - val_accuracy: 0.2727 - val_loss: 2.5892 - learning_rate: 1.0000e-04\n",
            "Epoch 11/70\n",
            "\u001b[1m89/89\u001b[0m \u001b[32m━━━━━━━━━━━━━━━━━━━━\u001b[0m\u001b[37m\u001b[0m \u001b[1m43s\u001b[0m 451ms/step - accuracy: 0.4649 - loss: 2.1390 - val_accuracy: 0.5057 - val_loss: 1.9778 - learning_rate: 1.0000e-04\n",
            "Epoch 12/70\n",
            "\u001b[1m89/89\u001b[0m \u001b[32m━━━━━━━━━━━━━━━━━━━━\u001b[0m\u001b[37m\u001b[0m \u001b[1m0s\u001b[0m 370us/step - accuracy: 0.2812 - loss: 2.1854 - val_accuracy: 0.5455 - val_loss: 2.0262 - learning_rate: 1.0000e-04\n",
            "Epoch 13/70\n",
            "\u001b[1m89/89\u001b[0m \u001b[32m━━━━━━━━━━━━━━━━━━━━\u001b[0m\u001b[37m\u001b[0m \u001b[1m43s\u001b[0m 453ms/step - accuracy: 0.4862 - loss: 1.9777 - val_accuracy: 0.5312 - val_loss: 1.8770 - learning_rate: 1.0000e-04\n",
            "Epoch 14/70\n",
            "\u001b[1m89/89\u001b[0m \u001b[32m━━━━━━━━━━━━━━━━━━━━\u001b[0m\u001b[37m\u001b[0m \u001b[1m0s\u001b[0m 1ms/step - accuracy: 0.5312 - loss: 1.8792 - val_accuracy: 0.6364 - val_loss: 1.5041 - learning_rate: 1.0000e-04\n",
            "Epoch 15/70\n",
            "\u001b[1m89/89\u001b[0m \u001b[32m━━━━━━━━━━━━━━━━━━━━\u001b[0m\u001b[37m\u001b[0m \u001b[1m43s\u001b[0m 443ms/step - accuracy: 0.5235 - loss: 1.8191 - val_accuracy: 0.5284 - val_loss: 1.8049 - learning_rate: 1.0000e-04\n",
            "Epoch 16/70\n",
            "\u001b[1m89/89\u001b[0m \u001b[32m━━━━━━━━━━━━━━━━━━━━\u001b[0m\u001b[37m\u001b[0m \u001b[1m0s\u001b[0m 1ms/step - accuracy: 0.4062 - loss: 1.9021 - val_accuracy: 0.7273 - val_loss: 1.2770 - learning_rate: 1.0000e-04\n",
            "Epoch 17/70\n",
            "\u001b[1m89/89\u001b[0m \u001b[32m━━━━━━━━━━━━━━━━━━━━\u001b[0m\u001b[37m\u001b[0m \u001b[1m82s\u001b[0m 442ms/step - accuracy: 0.5516 - loss: 1.6906 - val_accuracy: 0.5511 - val_loss: 1.7109 - learning_rate: 1.0000e-04\n",
            "Epoch 18/70\n",
            "\u001b[1m89/89\u001b[0m \u001b[32m━━━━━━━━━━━━━━━━━━━━\u001b[0m\u001b[37m\u001b[0m \u001b[1m0s\u001b[0m 486us/step - accuracy: 0.5000 - loss: 2.1119 - val_accuracy: 0.6364 - val_loss: 1.3243 - learning_rate: 1.0000e-04\n",
            "Epoch 19/70\n",
            "\u001b[1m89/89\u001b[0m \u001b[32m━━━━━━━━━━━━━━━━━━━━\u001b[0m\u001b[37m\u001b[0m \u001b[1m80s\u001b[0m 441ms/step - accuracy: 0.5617 - loss: 1.6021 - val_accuracy: 0.5483 - val_loss: 1.6468 - learning_rate: 1.0000e-04\n",
            "Epoch 20/70\n",
            "\u001b[1m89/89\u001b[0m \u001b[32m━━━━━━━━━━━━━━━━━━━━\u001b[0m\u001b[37m\u001b[0m \u001b[1m0s\u001b[0m 365us/step - accuracy: 0.5000 - loss: 2.0921 - val_accuracy: 0.7273 - val_loss: 1.2978 - learning_rate: 1.0000e-04\n",
            "Epoch 21/70\n",
            "\u001b[1m89/89\u001b[0m \u001b[32m━━━━━━━━━━━━━━━━━━━━\u001b[0m\u001b[37m\u001b[0m \u001b[1m42s\u001b[0m 445ms/step - accuracy: 0.6206 - loss: 1.4642 - val_accuracy: 0.5881 - val_loss: 1.5849 - learning_rate: 1.0000e-04\n",
            "Epoch 22/70\n",
            "\u001b[1m89/89\u001b[0m \u001b[32m━━━━━━━━━━━━━━━━━━━━\u001b[0m\u001b[37m\u001b[0m \u001b[1m0s\u001b[0m 1ms/step - accuracy: 0.6250 - loss: 1.6370 - val_accuracy: 0.7273 - val_loss: 1.2222 - learning_rate: 5.0000e-05\n",
            "Epoch 23/70\n",
            "\u001b[1m89/89\u001b[0m \u001b[32m━━━━━━━━━━━━━━━━━━━━\u001b[0m\u001b[37m\u001b[0m \u001b[1m43s\u001b[0m 452ms/step - accuracy: 0.5999 - loss: 1.4392 - val_accuracy: 0.5852 - val_loss: 1.5283 - learning_rate: 5.0000e-05\n",
            "Epoch 24/70\n",
            "\u001b[1m89/89\u001b[0m \u001b[32m━━━━━━━━━━━━━━━━━━━━\u001b[0m\u001b[37m\u001b[0m \u001b[1m0s\u001b[0m 445us/step - accuracy: 0.6875 - loss: 1.2739 - val_accuracy: 0.5455 - val_loss: 1.8055 - learning_rate: 5.0000e-05\n",
            "Epoch 25/70\n",
            "\u001b[1m89/89\u001b[0m \u001b[32m━━━━━━━━━━━━━━━━━━━━\u001b[0m\u001b[37m\u001b[0m \u001b[1m42s\u001b[0m 446ms/step - accuracy: 0.6254 - loss: 1.3489 - val_accuracy: 0.5966 - val_loss: 1.5261 - learning_rate: 5.0000e-05\n",
            "Epoch 26/70\n",
            "\u001b[1m89/89\u001b[0m \u001b[32m━━━━━━━━━━━━━━━━━━━━\u001b[0m\u001b[37m\u001b[0m \u001b[1m0s\u001b[0m 341us/step - accuracy: 0.7188 - loss: 1.3473 - val_accuracy: 0.6364 - val_loss: 1.3824 - learning_rate: 5.0000e-05\n",
            "Epoch 27/70\n",
            "\u001b[1m89/89\u001b[0m \u001b[32m━━━━━━━━━━━━━━━━━━━━\u001b[0m\u001b[37m\u001b[0m \u001b[1m42s\u001b[0m 443ms/step - accuracy: 0.6225 - loss: 1.3504 - val_accuracy: 0.5909 - val_loss: 1.5086 - learning_rate: 5.0000e-05\n",
            "Epoch 28/70\n",
            "\u001b[1m89/89\u001b[0m \u001b[32m━━━━━━━━━━━━━━━━━━━━\u001b[0m\u001b[37m\u001b[0m \u001b[1m0s\u001b[0m 406us/step - accuracy: 0.5312 - loss: 1.5662 - val_accuracy: 0.6364 - val_loss: 1.4905 - learning_rate: 2.5000e-05\n",
            "Epoch 29/70\n",
            "\u001b[1m89/89\u001b[0m \u001b[32m━━━━━━━━━━━━━━━━━━━━\u001b[0m\u001b[37m\u001b[0m \u001b[1m82s\u001b[0m 449ms/step - accuracy: 0.6257 - loss: 1.3517 - val_accuracy: 0.6023 - val_loss: 1.4788 - learning_rate: 2.5000e-05\n",
            "Epoch 30/70\n",
            "\u001b[1m89/89\u001b[0m \u001b[32m━━━━━━━━━━━━━━━━━━━━\u001b[0m\u001b[37m\u001b[0m \u001b[1m0s\u001b[0m 351us/step - accuracy: 0.6875 - loss: 1.1968 - val_accuracy: 0.4545 - val_loss: 1.8214 - learning_rate: 2.5000e-05\n",
            "Epoch 31/70\n",
            "\u001b[1m89/89\u001b[0m \u001b[32m━━━━━━━━━━━━━━━━━━━━\u001b[0m\u001b[37m\u001b[0m \u001b[1m42s\u001b[0m 444ms/step - accuracy: 0.6438 - loss: 1.3270 - val_accuracy: 0.6080 - val_loss: 1.4803 - learning_rate: 2.5000e-05\n",
            "Epoch 32/70\n",
            "\u001b[1m89/89\u001b[0m \u001b[32m━━━━━━━━━━━━━━━━━━━━\u001b[0m\u001b[37m\u001b[0m \u001b[1m0s\u001b[0m 384us/step - accuracy: 0.5625 - loss: 1.7341 - val_accuracy: 0.5455 - val_loss: 1.3873 - learning_rate: 2.5000e-05\n"
          ]
        }
      ]
    },
    {
      "cell_type": "code",
      "source": [
        "# Unfreeze the last few layers of the base model\n",
        "for layer in base_model.layers[-30:]:\n",
        "    layer.trainable = True\n",
        "\n",
        "# Recompile with a lower learning rate for fine-tuning\n",
        "model.compile(optimizer=Adam(learning_rate=1e-5),\n",
        "              loss='categorical_crossentropy',\n",
        "              metrics=['accuracy'])\n",
        "\n",
        "# Continue training\n",
        "history_fine_tuning = model.fit(\n",
        "    train_generator,\n",
        "    steps_per_epoch=train_generator.samples // batch_size,\n",
        "    validation_data=test_generator,\n",
        "    validation_steps=test_generator.samples // batch_size,\n",
        "    epochs=epochs,\n",
        "    callbacks=[early_stopping, lr_reduction]\n",
        ")\n"
      ],
      "metadata": {
        "colab": {
          "base_uri": "https://localhost:8080/"
        },
        "id": "vy8BxAfZ0-uP",
        "outputId": "290aeae6-f9d1-4515-f777-df999885bca6"
      },
      "execution_count": 21,
      "outputs": [
        {
          "output_type": "stream",
          "name": "stdout",
          "text": [
            "Epoch 1/70\n",
            "\u001b[1m89/89\u001b[0m \u001b[32m━━━━━━━━━━━━━━━━━━━━\u001b[0m\u001b[37m\u001b[0m \u001b[1m65s\u001b[0m 544ms/step - accuracy: 0.4063 - loss: 2.2874 - val_accuracy: 0.5795 - val_loss: 1.5061 - learning_rate: 1.0000e-05\n",
            "Epoch 2/70\n",
            "\u001b[1m89/89\u001b[0m \u001b[32m━━━━━━━━━━━━━━━━━━━━\u001b[0m\u001b[37m\u001b[0m \u001b[1m1s\u001b[0m 16ms/step - accuracy: 0.4375 - loss: 1.6785 - val_accuracy: 0.3636 - val_loss: 2.8121 - learning_rate: 1.0000e-05\n",
            "Epoch 3/70\n",
            "\u001b[1m89/89\u001b[0m \u001b[32m━━━━━━━━━━━━━━━━━━━━\u001b[0m\u001b[37m\u001b[0m \u001b[1m43s\u001b[0m 461ms/step - accuracy: 0.4784 - loss: 1.9630 - val_accuracy: 0.5625 - val_loss: 1.5659 - learning_rate: 1.0000e-05\n",
            "Epoch 4/70\n",
            "\u001b[1m89/89\u001b[0m \u001b[32m━━━━━━━━━━━━━━━━━━━━\u001b[0m\u001b[37m\u001b[0m \u001b[1m0s\u001b[0m 1ms/step - accuracy: 0.4688 - loss: 2.0442 - val_accuracy: 0.9091 - val_loss: 0.9880 - learning_rate: 1.0000e-05\n",
            "Epoch 5/70\n",
            "\u001b[1m89/89\u001b[0m \u001b[32m━━━━━━━━━━━━━━━━━━━━\u001b[0m\u001b[37m\u001b[0m \u001b[1m42s\u001b[0m 445ms/step - accuracy: 0.5217 - loss: 1.7679 - val_accuracy: 0.5682 - val_loss: 1.5649 - learning_rate: 1.0000e-05\n",
            "Epoch 6/70\n",
            "\u001b[1m89/89\u001b[0m \u001b[32m━━━━━━━━━━━━━━━━━━━━\u001b[0m\u001b[37m\u001b[0m \u001b[1m0s\u001b[0m 389us/step - accuracy: 0.7188 - loss: 1.4873 - val_accuracy: 0.8182 - val_loss: 1.0935 - learning_rate: 1.0000e-05\n",
            "Epoch 7/70\n",
            "\u001b[1m89/89\u001b[0m \u001b[32m━━━━━━━━━━━━━━━━━━━━\u001b[0m\u001b[37m\u001b[0m \u001b[1m43s\u001b[0m 449ms/step - accuracy: 0.5596 - loss: 1.6464 - val_accuracy: 0.5739 - val_loss: 1.4833 - learning_rate: 1.0000e-05\n",
            "Epoch 8/70\n",
            "\u001b[1m89/89\u001b[0m \u001b[32m━━━━━━━━━━━━━━━━━━━━\u001b[0m\u001b[37m\u001b[0m \u001b[1m0s\u001b[0m 404us/step - accuracy: 0.5938 - loss: 1.4705 - val_accuracy: 0.3636 - val_loss: 3.1401 - learning_rate: 1.0000e-05\n",
            "Epoch 9/70\n",
            "\u001b[1m89/89\u001b[0m \u001b[32m━━━━━━━━━━━━━━━━━━━━\u001b[0m\u001b[37m\u001b[0m \u001b[1m82s\u001b[0m 447ms/step - accuracy: 0.5806 - loss: 1.5027 - val_accuracy: 0.5767 - val_loss: 1.5190 - learning_rate: 1.0000e-05\n",
            "Epoch 10/70\n",
            "\u001b[1m89/89\u001b[0m \u001b[32m━━━━━━━━━━━━━━━━━━━━\u001b[0m\u001b[37m\u001b[0m \u001b[1m0s\u001b[0m 346us/step - accuracy: 0.7500 - loss: 1.2431 - val_accuracy: 0.6364 - val_loss: 1.2728 - learning_rate: 5.0000e-06\n",
            "Epoch 11/70\n",
            "\u001b[1m89/89\u001b[0m \u001b[32m━━━━━━━━━━━━━━━━━━━━\u001b[0m\u001b[37m\u001b[0m \u001b[1m82s\u001b[0m 427ms/step - accuracy: 0.5883 - loss: 1.4840 - val_accuracy: 0.5795 - val_loss: 1.4754 - learning_rate: 5.0000e-06\n",
            "Epoch 12/70\n",
            "\u001b[1m89/89\u001b[0m \u001b[32m━━━━━━━━━━━━━━━━━━━━\u001b[0m\u001b[37m\u001b[0m \u001b[1m0s\u001b[0m 493us/step - accuracy: 0.7188 - loss: 1.2887 - val_accuracy: 0.4545 - val_loss: 1.6428 - learning_rate: 5.0000e-06\n",
            "Epoch 13/70\n",
            "\u001b[1m89/89\u001b[0m \u001b[32m━━━━━━━━━━━━━━━━━━━━\u001b[0m\u001b[37m\u001b[0m \u001b[1m81s\u001b[0m 441ms/step - accuracy: 0.5912 - loss: 1.4345 - val_accuracy: 0.5824 - val_loss: 1.4577 - learning_rate: 5.0000e-06\n",
            "Epoch 14/70\n",
            "\u001b[1m89/89\u001b[0m \u001b[32m━━━━━━━━━━━━━━━━━━━━\u001b[0m\u001b[37m\u001b[0m \u001b[1m0s\u001b[0m 380us/step - accuracy: 0.7188 - loss: 1.2813 - val_accuracy: 0.5455 - val_loss: 1.2545 - learning_rate: 5.0000e-06\n"
          ]
        }
      ]
    },
    {
      "cell_type": "code",
      "source": [
        "# Evaluate the model on the test dataset\n",
        "test_loss, test_accuracy = model.evaluate(test_generator, steps=test_generator.samples // test_generator.batch_size)\n",
        "print(f'Test Accuracy: {test_accuracy * 100:.2f}%')\n"
      ],
      "metadata": {
        "colab": {
          "base_uri": "https://localhost:8080/"
        },
        "id": "yPl-CX_55aZu",
        "outputId": "c42f797e-bfff-4f41-a624-ac1bffcbf2d7"
      },
      "execution_count": 22,
      "outputs": [
        {
          "output_type": "stream",
          "name": "stdout",
          "text": [
            "\u001b[1m11/11\u001b[0m \u001b[32m━━━━━━━━━━━━━━━━━━━━\u001b[0m\u001b[37m\u001b[0m \u001b[1m1s\u001b[0m 73ms/step - accuracy: 0.5476 - loss: 1.5939\n",
            "Test Accuracy: 57.39%\n"
          ]
        }
      ]
    },
    {
      "cell_type": "code",
      "source": [
        "# Get the predictions\n",
        "Y_pred = model.predict(test_generator)\n",
        "y_pred = np.argmax(Y_pred, axis=1)\n",
        "\n",
        "# Get class labels\n",
        "class_labels = list(train_generator.class_indices.keys())\n",
        "\n",
        "# Print the classification report\n",
        "print(classification_report(test_generator.classes, y_pred, target_names=class_labels))\n"
      ],
      "metadata": {
        "colab": {
          "base_uri": "https://localhost:8080/"
        },
        "id": "uJ-34sqY7KZS",
        "outputId": "65721745-194f-48cc-cf00-692feda4f61f"
      },
      "execution_count": 23,
      "outputs": [
        {
          "output_type": "stream",
          "name": "stdout",
          "text": [
            "\u001b[1m12/12\u001b[0m \u001b[32m━━━━━━━━━━━━━━━━━━━━\u001b[0m\u001b[37m\u001b[0m \u001b[1m5s\u001b[0m 259ms/step\n",
            "                   precision    recall  f1-score   support\n",
            "\n",
            "      Alexandrite       0.00      0.00      0.00         4\n",
            "        Almandine       0.00      0.00      0.00         4\n",
            "        Amazonite       0.00      0.00      0.00         4\n",
            "            Amber       0.00      0.00      0.00         4\n",
            "         Amethyst       0.00      0.00      0.00         4\n",
            "         Ametrine       0.00      0.00      0.00         4\n",
            "       Andalusite       0.00      0.00      0.00         4\n",
            "        Andradite       0.00      0.00      0.00         4\n",
            "       Aquamarine       0.12      0.20      0.15         5\n",
            " Aventurine Green       0.00      0.00      0.00         5\n",
            "Aventurine Yellow       0.00      0.00      0.00         4\n",
            "        Benitoite       0.00      0.00      0.00         4\n",
            "     Beryl Golden       0.00      0.00      0.00         4\n",
            "          Bixbite       0.00      0.00      0.00         4\n",
            "       Bloodstone       0.00      0.00      0.00         4\n",
            "  Blue Lace Agate       0.00      0.00      0.00         5\n",
            "        Carnelian       0.00      0.00      0.00         4\n",
            "         Cats Eye       0.00      0.00      0.00         4\n",
            "       Chalcedony       0.00      0.00      0.00         4\n",
            "  Chalcedony Blue       0.00      0.00      0.00         4\n",
            "  Chrome Diopside       0.00      0.00      0.00         4\n",
            "      Chrysoberyl       0.00      0.00      0.00         4\n",
            "      Chrysocolla       0.00      0.00      0.00         4\n",
            "      Chrysoprase       0.00      0.00      0.00         4\n",
            "          Citrine       0.00      0.00      0.00         5\n",
            "            Coral       0.00      0.00      0.00         4\n",
            "        Danburite       0.00      0.00      0.00         4\n",
            "          Diamond       0.00      0.00      0.00         4\n",
            "         Diaspore       0.00      0.00      0.00         4\n",
            "     Dumortierite       0.00      0.00      0.00         4\n",
            "          Emerald       0.00      0.00      0.00         5\n",
            "         Fluorite       0.00      0.00      0.00         4\n",
            "       Garnet Red       0.14      0.25      0.18         4\n",
            "        Goshenite       0.00      0.00      0.00         4\n",
            "        Grossular       0.00      0.00      0.00         4\n",
            "        Hessonite       0.00      0.00      0.00         4\n",
            "        Hiddenite       0.00      0.00      0.00         4\n",
            "           Iolite       0.00      0.00      0.00         4\n",
            "             Jade       0.00      0.00      0.00         4\n",
            "           Jasper       0.00      0.00      0.00         5\n",
            "          Kunzite       0.00      0.00      0.00         4\n",
            "          Kyanite       0.00      0.00      0.00         4\n",
            "      Labradorite       0.00      0.00      0.00         5\n",
            "     Lapis Lazuli       0.00      0.00      0.00         4\n",
            "          Larimar       0.00      0.00      0.00         4\n",
            "        Malachite       0.00      0.00      0.00         4\n",
            "        Moonstone       0.00      0.00      0.00         5\n",
            "        Morganite       0.00      0.00      0.00         4\n",
            "       Onyx Black       0.00      0.00      0.00         4\n",
            "       Onyx Green       0.00      0.00      0.00         4\n",
            "         Onyx Red       0.00      0.00      0.00         4\n",
            "             Opal       0.00      0.00      0.00         5\n",
            "            Pearl       0.00      0.00      0.00         4\n",
            "          Peridot       0.00      0.00      0.00         5\n",
            "         Prehnite       0.00      0.00      0.00         5\n",
            "           Pyrite       0.00      0.00      0.00         5\n",
            "           Pyrope       0.17      0.25      0.20         4\n",
            "      Quartz Beer       0.00      0.00      0.00         4\n",
            "     Quartz Lemon       0.00      0.00      0.00         4\n",
            "      Quartz Rose       0.00      0.00      0.00         4\n",
            " Quartz Rutilated       0.00      0.00      0.00         5\n",
            "     Quartz Smoky       0.00      0.00      0.00         4\n",
            "    Rhodochrosite       0.00      0.00      0.00         4\n",
            "        Rhodolite       0.00      0.00      0.00         4\n",
            "        Rhodonite       0.00      0.00      0.00         4\n",
            "             Ruby       0.00      0.00      0.00         4\n",
            "    Sapphire Blue       0.00      0.00      0.00         4\n",
            "    Sapphire Pink       0.00      0.00      0.00         4\n",
            "  Sapphire Purple       0.00      0.00      0.00         4\n",
            "  Sapphire Yellow       0.00      0.00      0.00         4\n",
            "        Scapolite       0.00      0.00      0.00         4\n",
            "       Serpentine       0.00      0.00      0.00         4\n",
            "         Sodalite       0.00      0.00      0.00         4\n",
            "      Spessartite       0.00      0.00      0.00         4\n",
            "           Sphene       0.00      0.00      0.00         4\n",
            "           Spinel       0.00      0.00      0.00         4\n",
            "        Spodumene       0.00      0.00      0.00         4\n",
            "         Sunstone       0.00      0.00      0.00         4\n",
            "        Tanzanite       0.00      0.00      0.00         4\n",
            "       Tigers Eye       0.20      0.20      0.20         5\n",
            "            Topaz       0.00      0.00      0.00         4\n",
            "       Tourmaline       0.00      0.00      0.00         5\n",
            "        Tsavorite       0.00      0.00      0.00         4\n",
            "        Turquoise       0.00      0.00      0.00         4\n",
            "        Variscite       0.00      0.00      0.00         4\n",
            "           Zircon       0.00      0.00      0.00         4\n",
            "          Zoisite       0.00      0.00      0.00         4\n",
            "\n",
            "         accuracy                           0.01       363\n",
            "        macro avg       0.01      0.01      0.01       363\n",
            "     weighted avg       0.01      0.01      0.01       363\n",
            "\n"
          ]
        },
        {
          "output_type": "stream",
          "name": "stderr",
          "text": [
            "/usr/local/lib/python3.10/dist-packages/sklearn/metrics/_classification.py:1531: UndefinedMetricWarning: Precision is ill-defined and being set to 0.0 in labels with no predicted samples. Use `zero_division` parameter to control this behavior.\n",
            "  _warn_prf(average, modifier, f\"{metric.capitalize()} is\", len(result))\n",
            "/usr/local/lib/python3.10/dist-packages/sklearn/metrics/_classification.py:1531: UndefinedMetricWarning: Precision is ill-defined and being set to 0.0 in labels with no predicted samples. Use `zero_division` parameter to control this behavior.\n",
            "  _warn_prf(average, modifier, f\"{metric.capitalize()} is\", len(result))\n",
            "/usr/local/lib/python3.10/dist-packages/sklearn/metrics/_classification.py:1531: UndefinedMetricWarning: Precision is ill-defined and being set to 0.0 in labels with no predicted samples. Use `zero_division` parameter to control this behavior.\n",
            "  _warn_prf(average, modifier, f\"{metric.capitalize()} is\", len(result))\n"
          ]
        }
      ]
    },
    {
      "cell_type": "code",
      "source": [
        "from tensorflow.keras.preprocessing import image\n",
        "\n",
        "# Path to the uploaded image (replace with the actual image path)\n",
        "img_path = '/content/2.jpeg'\n",
        "\n",
        "# Load the image with the same target size as the model input\n",
        "img = image.load_img(img_path, target_size=(224, 224))\n",
        "\n",
        "# Convert the image to a numpy array\n",
        "img_array = image.img_to_array(img)\n",
        "\n",
        "# Expand dimensions to match the input shape expected by the model\n",
        "img_array = np.expand_dims(img_array, axis=0)\n",
        "\n",
        "# Rescale the image (since the model was trained on rescaled data)\n",
        "img_array /= 255.0\n",
        "\n",
        "# Make a prediction\n",
        "predictions = model.predict(img_array)\n",
        "\n",
        "# Get the predicted class index and label\n",
        "predicted_class_index = np.argmax(predictions[0])\n",
        "predicted_class_label = class_labels[predicted_class_index]\n",
        "\n",
        "print(f'Predicted class: {predicted_class_label}')\n"
      ],
      "metadata": {
        "colab": {
          "base_uri": "https://localhost:8080/"
        },
        "id": "GKc-_iPv7Pgb",
        "outputId": "25a914e5-513e-43f6-f537-d0d99b90e145"
      },
      "execution_count": 26,
      "outputs": [
        {
          "output_type": "stream",
          "name": "stdout",
          "text": [
            "\u001b[1m1/1\u001b[0m \u001b[32m━━━━━━━━━━━━━━━━━━━━\u001b[0m\u001b[37m\u001b[0m \u001b[1m0s\u001b[0m 23ms/step\n",
            "Predicted class: Sapphire Blue\n"
          ]
        }
      ]
    },
    {
      "cell_type": "code",
      "source": [
        "import matplotlib.pyplot as plt\n",
        "\n",
        "# Plot accuracy and loss curves for training and validation\n",
        "def plot_training_history(history):\n",
        "    # Plot training & validation accuracy values\n",
        "    plt.figure(figsize=(12, 5))\n",
        "\n",
        "    plt.subplot(1, 2, 1)\n",
        "    plt.plot(history.history['accuracy'], label='Training Accuracy')\n",
        "    plt.plot(history.history['val_accuracy'], label='Validation Accuracy')\n",
        "    plt.title('Model Accuracy')\n",
        "    plt.ylabel('Accuracy')\n",
        "    plt.xlabel('Epoch')\n",
        "    plt.legend(loc='best')\n",
        "\n",
        "    # Plot training & validation loss values\n",
        "    plt.subplot(1, 2, 2)\n",
        "    plt.plot(history.history['loss'], label='Training Loss')\n",
        "    plt.plot(history.history['val_loss'], label='Validation Loss')\n",
        "    plt.title('Model Loss')\n",
        "    plt.ylabel('Loss')\n",
        "    plt.xlabel('Epoch')\n",
        "    plt.legend(loc='best')\n",
        "\n",
        "    plt.show()\n",
        "\n",
        "# Call the function to plot the history\n",
        "plot_training_history(history)\n"
      ],
      "metadata": {
        "colab": {
          "base_uri": "https://localhost:8080/",
          "height": 487
        },
        "id": "QN8qRiQOEU-1",
        "outputId": "2ab09a7e-cbac-4ac8-d71d-fbdaaf6d0d04"
      },
      "execution_count": 25,
      "outputs": [
        {
          "output_type": "display_data",
          "data": {
            "text/plain": [
              "<Figure size 1200x500 with 2 Axes>"
            ],
            "image/png": "[encoded data removed]"
          },
          "metadata": {}
        }
      ]
    },
    {
      "cell_type": "code",
      "source": [],
      "metadata": {
        "id": "xpR6JXDnEVgz"
      },
      "execution_count": null,
      "outputs": []
    }
  ]
}